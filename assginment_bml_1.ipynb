{
 "cells": [
  {
   "cell_type": "markdown",
   "id": "ac66bd0a",
   "metadata": {},
   "source": [
    "#                                         BML  Assginment-I"
   ]
  },
  {
   "cell_type": "markdown",
   "id": "327de91e",
   "metadata": {},
   "source": [
    "NAME : S.JANANE                     \n",
    "\n",
    "YEAR : 2nd - \"A\"\n",
    "    \n",
    "Topic : Data Preprocessing in ML"
   ]
  },
  {
   "cell_type": "code",
   "execution_count": 123,
   "id": "56981d93",
   "metadata": {},
   "outputs": [],
   "source": [
    "import numpy as np\n",
    "import pandas as pd\n",
    "from sklearn.impute import SimpleImputer \n",
    "from sklearn.preprocessing import LabelEncoder, OneHotEncoder \n",
    "from sklearn.model_selection import train_test_split \n",
    "from sklearn.preprocessing import StandardScaler "
   ]
  },
  {
   "cell_type": "code",
   "execution_count": 124,
   "id": "fb1d2907",
   "metadata": {},
   "outputs": [
    {
     "data": {
      "text/html": [
       "<div>\n",
       "<style scoped>\n",
       "    .dataframe tbody tr th:only-of-type {\n",
       "        vertical-align: middle;\n",
       "    }\n",
       "\n",
       "    .dataframe tbody tr th {\n",
       "        vertical-align: top;\n",
       "    }\n",
       "\n",
       "    .dataframe thead th {\n",
       "        text-align: right;\n",
       "    }\n",
       "</style>\n",
       "<table border=\"1\" class=\"dataframe\">\n",
       "  <thead>\n",
       "    <tr style=\"text-align: right;\">\n",
       "      <th></th>\n",
       "      <th>Date</th>\n",
       "      <th>Open</th>\n",
       "      <th>High</th>\n",
       "      <th>Low</th>\n",
       "      <th>Close</th>\n",
       "      <th>Adj Close</th>\n",
       "      <th>Volume</th>\n",
       "    </tr>\n",
       "  </thead>\n",
       "  <tbody>\n",
       "    <tr>\n",
       "      <th>0</th>\n",
       "      <td>29-06-2010</td>\n",
       "      <td>19.000000</td>\n",
       "      <td>25.000000</td>\n",
       "      <td>17.540001</td>\n",
       "      <td>23.889999</td>\n",
       "      <td>23.889999</td>\n",
       "      <td>18766300.0</td>\n",
       "    </tr>\n",
       "    <tr>\n",
       "      <th>1</th>\n",
       "      <td>30-06-2010</td>\n",
       "      <td>25.790001</td>\n",
       "      <td>30.420000</td>\n",
       "      <td>23.299999</td>\n",
       "      <td>23.830000</td>\n",
       "      <td>23.830000</td>\n",
       "      <td>17187100.0</td>\n",
       "    </tr>\n",
       "    <tr>\n",
       "      <th>2</th>\n",
       "      <td>01-07-2010</td>\n",
       "      <td>25.000000</td>\n",
       "      <td>25.920000</td>\n",
       "      <td>20.270000</td>\n",
       "      <td>21.959999</td>\n",
       "      <td>NaN</td>\n",
       "      <td>8218800.0</td>\n",
       "    </tr>\n",
       "    <tr>\n",
       "      <th>3</th>\n",
       "      <td>02-07-2010</td>\n",
       "      <td>23.000000</td>\n",
       "      <td>23.100000</td>\n",
       "      <td>18.709999</td>\n",
       "      <td>19.200001</td>\n",
       "      <td>19.200001</td>\n",
       "      <td>5139800.0</td>\n",
       "    </tr>\n",
       "    <tr>\n",
       "      <th>4</th>\n",
       "      <td>06-07-2010</td>\n",
       "      <td>20.000000</td>\n",
       "      <td>20.000000</td>\n",
       "      <td>15.830000</td>\n",
       "      <td>NaN</td>\n",
       "      <td>16.110001</td>\n",
       "      <td>NaN</td>\n",
       "    </tr>\n",
       "    <tr>\n",
       "      <th>...</th>\n",
       "      <td>...</td>\n",
       "      <td>...</td>\n",
       "      <td>...</td>\n",
       "      <td>...</td>\n",
       "      <td>...</td>\n",
       "      <td>...</td>\n",
       "      <td>...</td>\n",
       "    </tr>\n",
       "    <tr>\n",
       "      <th>2411</th>\n",
       "      <td>28-01-2020</td>\n",
       "      <td>568.489990</td>\n",
       "      <td>576.809998</td>\n",
       "      <td>558.080017</td>\n",
       "      <td>566.900024</td>\n",
       "      <td>566.900024</td>\n",
       "      <td>11788500.0</td>\n",
       "    </tr>\n",
       "    <tr>\n",
       "      <th>2412</th>\n",
       "      <td>29-01-2020</td>\n",
       "      <td>575.690002</td>\n",
       "      <td>589.799988</td>\n",
       "      <td>567.429993</td>\n",
       "      <td>580.989990</td>\n",
       "      <td>580.989990</td>\n",
       "      <td>17801500.0</td>\n",
       "    </tr>\n",
       "    <tr>\n",
       "      <th>2413</th>\n",
       "      <td>30-01-2020</td>\n",
       "      <td>632.419983</td>\n",
       "      <td>650.880005</td>\n",
       "      <td>618.000000</td>\n",
       "      <td>640.809998</td>\n",
       "      <td>640.809998</td>\n",
       "      <td>29005700.0</td>\n",
       "    </tr>\n",
       "    <tr>\n",
       "      <th>2414</th>\n",
       "      <td>31-01-2020</td>\n",
       "      <td>640.000000</td>\n",
       "      <td>653.000000</td>\n",
       "      <td>632.520020</td>\n",
       "      <td>650.570007</td>\n",
       "      <td>650.570007</td>\n",
       "      <td>15719300.0</td>\n",
       "    </tr>\n",
       "    <tr>\n",
       "      <th>2415</th>\n",
       "      <td>03-02-2020</td>\n",
       "      <td>673.690002</td>\n",
       "      <td>786.140015</td>\n",
       "      <td>673.520020</td>\n",
       "      <td>780.000000</td>\n",
       "      <td>780.000000</td>\n",
       "      <td>47065000.0</td>\n",
       "    </tr>\n",
       "  </tbody>\n",
       "</table>\n",
       "<p>2416 rows × 7 columns</p>\n",
       "</div>"
      ],
      "text/plain": [
       "            Date        Open        High         Low       Close   Adj Close  \\\n",
       "0     29-06-2010   19.000000   25.000000   17.540001   23.889999   23.889999   \n",
       "1     30-06-2010   25.790001   30.420000   23.299999   23.830000   23.830000   \n",
       "2     01-07-2010   25.000000   25.920000   20.270000   21.959999         NaN   \n",
       "3     02-07-2010   23.000000   23.100000   18.709999   19.200001   19.200001   \n",
       "4     06-07-2010   20.000000   20.000000   15.830000         NaN   16.110001   \n",
       "...          ...         ...         ...         ...         ...         ...   \n",
       "2411  28-01-2020  568.489990  576.809998  558.080017  566.900024  566.900024   \n",
       "2412  29-01-2020  575.690002  589.799988  567.429993  580.989990  580.989990   \n",
       "2413  30-01-2020  632.419983  650.880005  618.000000  640.809998  640.809998   \n",
       "2414  31-01-2020  640.000000  653.000000  632.520020  650.570007  650.570007   \n",
       "2415  03-02-2020  673.690002  786.140015  673.520020  780.000000  780.000000   \n",
       "\n",
       "          Volume  \n",
       "0     18766300.0  \n",
       "1     17187100.0  \n",
       "2      8218800.0  \n",
       "3      5139800.0  \n",
       "4            NaN  \n",
       "...          ...  \n",
       "2411  11788500.0  \n",
       "2412  17801500.0  \n",
       "2413  29005700.0  \n",
       "2414  15719300.0  \n",
       "2415  47065000.0  \n",
       "\n",
       "[2416 rows x 7 columns]"
      ]
     },
     "execution_count": 124,
     "metadata": {},
     "output_type": "execute_result"
    }
   ],
   "source": [
    "dataset = pd.read_csv('C:/Users/Janane Sundar/Documents/bml/stack_price.csv')\n",
    "dataset"
   ]
  },
  {
   "cell_type": "code",
   "execution_count": 125,
   "id": "7522c157",
   "metadata": {},
   "outputs": [
    {
     "data": {
      "text/plain": [
       "array([['29-06-2010', 19.0, 25.0, 17.540001, 23.889999, 23.889999],\n",
       "       ['30-06-2010', 25.790001, 30.42, 23.299999, 23.83, 23.83],\n",
       "       ['01-07-2010', 25.0, 25.92, 20.27, 21.959999, nan],\n",
       "       ...,\n",
       "       ['30-01-2020', 632.419983, 650.880005, 618.0, 640.809998,\n",
       "        640.809998],\n",
       "       ['31-01-2020', 640.0, 653.0, 632.52002, 650.570007, 650.570007],\n",
       "       ['03-02-2020', 673.690002, 786.140015, 673.52002, 780.0, 780.0]],\n",
       "      dtype=object)"
      ]
     },
     "execution_count": 125,
     "metadata": {},
     "output_type": "execute_result"
    }
   ],
   "source": [
    "X = dataset.iloc[:, :-1].values\n",
    "X"
   ]
  },
  {
   "cell_type": "code",
   "execution_count": 126,
   "id": "8e993b8a",
   "metadata": {},
   "outputs": [
    {
     "name": "stdout",
     "output_type": "stream",
     "text": [
      "Date         0\n",
      "Open         0\n",
      "High         1\n",
      "Low          2\n",
      "Close        1\n",
      "Adj Close    1\n",
      "Volume       2\n",
      "dtype: int64\n"
     ]
    }
   ],
   "source": [
    "print(dataset.isnull().sum())"
   ]
  },
  {
   "cell_type": "code",
   "execution_count": 127,
   "id": "e82effc1",
   "metadata": {},
   "outputs": [
    {
     "data": {
      "text/html": [
       "<div>\n",
       "<style scoped>\n",
       "    .dataframe tbody tr th:only-of-type {\n",
       "        vertical-align: middle;\n",
       "    }\n",
       "\n",
       "    .dataframe tbody tr th {\n",
       "        vertical-align: top;\n",
       "    }\n",
       "\n",
       "    .dataframe thead th {\n",
       "        text-align: right;\n",
       "    }\n",
       "</style>\n",
       "<table border=\"1\" class=\"dataframe\">\n",
       "  <thead>\n",
       "    <tr style=\"text-align: right;\">\n",
       "      <th></th>\n",
       "      <th>Date</th>\n",
       "      <th>Open</th>\n",
       "      <th>High</th>\n",
       "      <th>Low</th>\n",
       "      <th>Close</th>\n",
       "      <th>Adj Close</th>\n",
       "      <th>Volume</th>\n",
       "    </tr>\n",
       "  </thead>\n",
       "  <tbody>\n",
       "    <tr>\n",
       "      <th>0</th>\n",
       "      <td>29-06-2010</td>\n",
       "      <td>19.000000</td>\n",
       "      <td>25.000000</td>\n",
       "      <td>17.540001</td>\n",
       "      <td>23.889999</td>\n",
       "      <td>23.889999</td>\n",
       "      <td>18766300.0</td>\n",
       "    </tr>\n",
       "    <tr>\n",
       "      <th>1</th>\n",
       "      <td>30-06-2010</td>\n",
       "      <td>25.790001</td>\n",
       "      <td>30.420000</td>\n",
       "      <td>23.299999</td>\n",
       "      <td>23.830000</td>\n",
       "      <td>23.830000</td>\n",
       "      <td>17187100.0</td>\n",
       "    </tr>\n",
       "    <tr>\n",
       "      <th>3</th>\n",
       "      <td>02-07-2010</td>\n",
       "      <td>23.000000</td>\n",
       "      <td>23.100000</td>\n",
       "      <td>18.709999</td>\n",
       "      <td>19.200001</td>\n",
       "      <td>19.200001</td>\n",
       "      <td>5139800.0</td>\n",
       "    </tr>\n",
       "    <tr>\n",
       "      <th>5</th>\n",
       "      <td>07-07-2010</td>\n",
       "      <td>16.400000</td>\n",
       "      <td>16.629999</td>\n",
       "      <td>14.980000</td>\n",
       "      <td>15.800000</td>\n",
       "      <td>15.800000</td>\n",
       "      <td>6921700.0</td>\n",
       "    </tr>\n",
       "    <tr>\n",
       "      <th>6</th>\n",
       "      <td>08-07-2010</td>\n",
       "      <td>16.139999</td>\n",
       "      <td>17.520000</td>\n",
       "      <td>15.570000</td>\n",
       "      <td>17.459999</td>\n",
       "      <td>17.459999</td>\n",
       "      <td>7711400.0</td>\n",
       "    </tr>\n",
       "    <tr>\n",
       "      <th>...</th>\n",
       "      <td>...</td>\n",
       "      <td>...</td>\n",
       "      <td>...</td>\n",
       "      <td>...</td>\n",
       "      <td>...</td>\n",
       "      <td>...</td>\n",
       "      <td>...</td>\n",
       "    </tr>\n",
       "    <tr>\n",
       "      <th>2411</th>\n",
       "      <td>28-01-2020</td>\n",
       "      <td>568.489990</td>\n",
       "      <td>576.809998</td>\n",
       "      <td>558.080017</td>\n",
       "      <td>566.900024</td>\n",
       "      <td>566.900024</td>\n",
       "      <td>11788500.0</td>\n",
       "    </tr>\n",
       "    <tr>\n",
       "      <th>2412</th>\n",
       "      <td>29-01-2020</td>\n",
       "      <td>575.690002</td>\n",
       "      <td>589.799988</td>\n",
       "      <td>567.429993</td>\n",
       "      <td>580.989990</td>\n",
       "      <td>580.989990</td>\n",
       "      <td>17801500.0</td>\n",
       "    </tr>\n",
       "    <tr>\n",
       "      <th>2413</th>\n",
       "      <td>30-01-2020</td>\n",
       "      <td>632.419983</td>\n",
       "      <td>650.880005</td>\n",
       "      <td>618.000000</td>\n",
       "      <td>640.809998</td>\n",
       "      <td>640.809998</td>\n",
       "      <td>29005700.0</td>\n",
       "    </tr>\n",
       "    <tr>\n",
       "      <th>2414</th>\n",
       "      <td>31-01-2020</td>\n",
       "      <td>640.000000</td>\n",
       "      <td>653.000000</td>\n",
       "      <td>632.520020</td>\n",
       "      <td>650.570007</td>\n",
       "      <td>650.570007</td>\n",
       "      <td>15719300.0</td>\n",
       "    </tr>\n",
       "    <tr>\n",
       "      <th>2415</th>\n",
       "      <td>03-02-2020</td>\n",
       "      <td>673.690002</td>\n",
       "      <td>786.140015</td>\n",
       "      <td>673.520020</td>\n",
       "      <td>780.000000</td>\n",
       "      <td>780.000000</td>\n",
       "      <td>47065000.0</td>\n",
       "    </tr>\n",
       "  </tbody>\n",
       "</table>\n",
       "<p>2410 rows × 7 columns</p>\n",
       "</div>"
      ],
      "text/plain": [
       "            Date        Open        High         Low       Close   Adj Close  \\\n",
       "0     29-06-2010   19.000000   25.000000   17.540001   23.889999   23.889999   \n",
       "1     30-06-2010   25.790001   30.420000   23.299999   23.830000   23.830000   \n",
       "3     02-07-2010   23.000000   23.100000   18.709999   19.200001   19.200001   \n",
       "5     07-07-2010   16.400000   16.629999   14.980000   15.800000   15.800000   \n",
       "6     08-07-2010   16.139999   17.520000   15.570000   17.459999   17.459999   \n",
       "...          ...         ...         ...         ...         ...         ...   \n",
       "2411  28-01-2020  568.489990  576.809998  558.080017  566.900024  566.900024   \n",
       "2412  29-01-2020  575.690002  589.799988  567.429993  580.989990  580.989990   \n",
       "2413  30-01-2020  632.419983  650.880005  618.000000  640.809998  640.809998   \n",
       "2414  31-01-2020  640.000000  653.000000  632.520020  650.570007  650.570007   \n",
       "2415  03-02-2020  673.690002  786.140015  673.520020  780.000000  780.000000   \n",
       "\n",
       "          Volume  \n",
       "0     18766300.0  \n",
       "1     17187100.0  \n",
       "3      5139800.0  \n",
       "5      6921700.0  \n",
       "6      7711400.0  \n",
       "...          ...  \n",
       "2411  11788500.0  \n",
       "2412  17801500.0  \n",
       "2413  29005700.0  \n",
       "2414  15719300.0  \n",
       "2415  47065000.0  \n",
       "\n",
       "[2410 rows x 7 columns]"
      ]
     },
     "execution_count": 127,
     "metadata": {},
     "output_type": "execute_result"
    }
   ],
   "source": [
    "dataset.dropna(inplace=True)\n",
    "dataset"
   ]
  },
  {
   "cell_type": "code",
   "execution_count": 128,
   "id": "e489d711",
   "metadata": {},
   "outputs": [],
   "source": [
    "from sklearn.impute import SimpleImputer"
   ]
  },
  {
   "cell_type": "code",
   "execution_count": 129,
   "id": "5bdac4d7",
   "metadata": {},
   "outputs": [],
   "source": [
    "imputer=SimpleImputer(missing_values=np.nan,strategy='mean')"
   ]
  },
  {
   "cell_type": "code",
   "execution_count": 130,
   "id": "bb5f8616",
   "metadata": {},
   "outputs": [
    {
     "data": {
      "text/plain": [
       "array([[ 25.      ,  17.540001,  23.889999],\n",
       "       [ 30.42    ,  23.299999,  23.83    ],\n",
       "       [ 23.1     ,  18.709999,  19.200001],\n",
       "       ...,\n",
       "       [650.880005, 618.      , 640.809998],\n",
       "       [653.      , 632.52002 , 650.570007],\n",
       "       [786.140015, 673.52002 , 780.      ]])"
      ]
     },
     "execution_count": 130,
     "metadata": {},
     "output_type": "execute_result"
    }
   ],
   "source": [
    "x=dataset[['High','Low','Close']].values\n",
    "x"
   ]
  },
  {
   "cell_type": "code",
   "execution_count": 131,
   "id": "fd3abc38",
   "metadata": {},
   "outputs": [],
   "source": [
    "imputer=imputer.fit(x[:,1:3])"
   ]
  },
  {
   "cell_type": "code",
   "execution_count": 132,
   "id": "bdcc34e9",
   "metadata": {},
   "outputs": [
    {
     "data": {
      "text/plain": [
       "array([[ 25.      ,  17.540001,  23.889999],\n",
       "       [ 30.42    ,  23.299999,  23.83    ],\n",
       "       [ 23.1     ,  18.709999,  19.200001],\n",
       "       ...,\n",
       "       [650.880005, 618.      , 640.809998],\n",
       "       [653.      , 632.52002 , 650.570007],\n",
       "       [786.140015, 673.52002 , 780.      ]])"
      ]
     },
     "execution_count": 132,
     "metadata": {},
     "output_type": "execute_result"
    }
   ],
   "source": [
    "x[:,1:3]=imputer.transform(x[:,1:3])\n",
    "x"
   ]
  },
  {
   "cell_type": "code",
   "execution_count": 133,
   "id": "bfa9cb9a",
   "metadata": {},
   "outputs": [],
   "source": [
    "from sklearn.preprocessing import LabelEncoder"
   ]
  },
  {
   "cell_type": "code",
   "execution_count": 134,
   "id": "42a2f9b9",
   "metadata": {},
   "outputs": [],
   "source": [
    "label_encode_x=LabelEncoder()\n",
    "label_encode_y=LabelEncoder()"
   ]
  },
  {
   "cell_type": "code",
   "execution_count": 135,
   "id": "7e1f4854",
   "metadata": {},
   "outputs": [
    {
     "data": {
      "text/plain": [
       "LabelEncoder()"
      ]
     },
     "execution_count": 135,
     "metadata": {},
     "output_type": "execute_result"
    }
   ],
   "source": [
    "label_encode_x"
   ]
  },
  {
   "cell_type": "code",
   "execution_count": 136,
   "id": "28ae410e",
   "metadata": {},
   "outputs": [
    {
     "data": {
      "text/plain": [
       "array([[ 123.      ,   17.540001,   23.889999],\n",
       "       [ 315.      ,   23.299999,   23.83    ],\n",
       "       [  73.      ,   18.709999,   19.200001],\n",
       "       ...,\n",
       "       [2121.      ,  618.      ,  640.809998],\n",
       "       [2122.      ,  632.52002 ,  650.570007],\n",
       "       [2123.      ,  673.52002 ,  780.      ]])"
      ]
     },
     "execution_count": 136,
     "metadata": {},
     "output_type": "execute_result"
    }
   ],
   "source": [
    "x[:,0]=label_encode_x.fit_transform(x[:,0])\n",
    "x"
   ]
  },
  {
   "cell_type": "code",
   "execution_count": 137,
   "id": "96edb502",
   "metadata": {},
   "outputs": [
    {
     "data": {
      "text/plain": [
       "array([ 16.629999,  17.52    ,  17.9     , ..., 650.880005, 653.      ,\n",
       "       786.140015])"
      ]
     },
     "execution_count": 137,
     "metadata": {},
     "output_type": "execute_result"
    }
   ],
   "source": [
    "label_encode_x.classes_"
   ]
  },
  {
   "cell_type": "code",
   "execution_count": 138,
   "id": "4c28e22b",
   "metadata": {},
   "outputs": [
    {
     "data": {
      "text/plain": [
       "array([['29-06-2010'],\n",
       "       ['30-06-2010'],\n",
       "       ['02-07-2010'],\n",
       "       ...,\n",
       "       ['30-01-2020'],\n",
       "       ['31-01-2020'],\n",
       "       ['03-02-2020']], dtype=object)"
      ]
     },
     "execution_count": 138,
     "metadata": {},
     "output_type": "execute_result"
    }
   ],
   "source": [
    "y=dataset[['Date']].values\n",
    "y"
   ]
  },
  {
   "cell_type": "code",
   "execution_count": 139,
   "id": "d3192622",
   "metadata": {},
   "outputs": [
    {
     "name": "stderr",
     "output_type": "stream",
     "text": [
      "C:\\Users\\Janane Sundar\\Anaconda3\\lib\\site-packages\\sklearn\\preprocessing\\_label.py:115: DataConversionWarning: A column-vector y was passed when a 1d array was expected. Please change the shape of y to (n_samples, ), for example using ravel().\n",
      "  y = column_or_1d(y, warn=True)\n"
     ]
    },
    {
     "data": {
      "text/plain": [
       "array([2240, 2313,  110, ..., 2295, 2368,  165])"
      ]
     },
     "execution_count": 139,
     "metadata": {},
     "output_type": "execute_result"
    }
   ],
   "source": [
    "y=label_encode_y.fit_transform(y)\n",
    "y"
   ]
  },
  {
   "cell_type": "code",
   "execution_count": 140,
   "id": "d2b7b23a",
   "metadata": {},
   "outputs": [],
   "source": [
    "from sklearn.model_selection import train_test_split"
   ]
  },
  {
   "cell_type": "code",
   "execution_count": 141,
   "id": "7f42487c",
   "metadata": {},
   "outputs": [],
   "source": [
    "x_train,x_test,y_train,y_test=train_test_split(x,y,test_size=0.25,random_state=1)"
   ]
  },
  {
   "cell_type": "code",
   "execution_count": 142,
   "id": "290da024",
   "metadata": {},
   "outputs": [
    {
     "data": {
      "text/plain": [
       "array([[1678.      ,  288.769989,  297.859985],\n",
       "       [ 119.      ,   24.33    ,   24.82    ],\n",
       "       [1310.      ,  235.669998,  238.089996],\n",
       "       ...,\n",
       "       [1398.      ,  245.580002,  249.100006],\n",
       "       [ 248.      ,   27.879999,   28.43    ],\n",
       "       [1404.      ,  247.039993,  252.139999]])"
      ]
     },
     "execution_count": 142,
     "metadata": {},
     "output_type": "execute_result"
    }
   ],
   "source": [
    "x_train"
   ]
  },
  {
   "cell_type": "code",
   "execution_count": 143,
   "id": "7bad8adf",
   "metadata": {},
   "outputs": [
    {
     "data": {
      "text/plain": [
       "array([[1520.      ,  261.200012,  261.5     ],\n",
       "       [ 473.      ,   34.540001,   34.98    ],\n",
       "       [1933.      ,  325.      ,  346.      ],\n",
       "       ...,\n",
       "       [1980.      ,  343.73999 ,  344.570007],\n",
       "       [1760.      ,  308.      ,  314.070007],\n",
       "       [ 760.      ,  176.990005,  178.970001]])"
      ]
     },
     "execution_count": 143,
     "metadata": {},
     "output_type": "execute_result"
    }
   ],
   "source": [
    "x_test"
   ]
  },
  {
   "cell_type": "code",
   "execution_count": 144,
   "id": "80e19285",
   "metadata": {},
   "outputs": [
    {
     "data": {
      "text/plain": [
       "array([1987, 1167, 2358, ...,  938,  983, 1882])"
      ]
     },
     "execution_count": 144,
     "metadata": {},
     "output_type": "execute_result"
    }
   ],
   "source": [
    "y_train"
   ]
  },
  {
   "cell_type": "code",
   "execution_count": 145,
   "id": "e5854e64",
   "metadata": {},
   "outputs": [
    {
     "data": {
      "text/plain": [
       "array([1288, 1439, 2046,    1, 1576,  778,  799,  874, 2091, 2365,  714,\n",
       "       1963, 1103, 1560, 1027, 1724,  608,  723, 2319,  905,  668,  624,\n",
       "        907,  429,  484, 1974, 1299,   80,  724, 1202, 2261, 1294, 2243,\n",
       "       2206, 1302, 1955, 1002, 2302, 1615,  165, 2271, 1978,  450, 1325,\n",
       "       1921, 1837, 2082, 1943, 1421, 1609,  382, 2350,  842, 2381,  879,\n",
       "       2253, 2407,  436,  737, 1701,  958,  898, 1024, 1266,  707, 1162,\n",
       "        716,  299, 2044,  304,  125, 1556,  802, 1500, 1858, 1447, 1305,\n",
       "       1555, 2332, 2262,  692, 2280,  516,  465,  338, 1563, 2107,  673,\n",
       "       1139, 1854,  617,  943,  409, 1313,  843, 1581, 2070,  890, 2213,\n",
       "        459, 1048, 1293, 1013, 1354,  698, 1110,   96,  527,  164, 1323,\n",
       "       1729, 1007, 1797,  107,   63, 2015,  566,  138,  602,  722, 2105,\n",
       "       1528,  806, 2380,  281, 1869, 1850, 1829, 1773, 1215, 1055, 1085,\n",
       "       2272,  129,  701,   95,   59, 1616, 1107,  650, 1036, 1208, 1792,\n",
       "       2127, 1700,  396,  403, 1587,  171, 1123,  372,  926, 2052,  875,\n",
       "       2342, 1610,  965, 1395,  302, 1839,  969, 1709, 1046,   10,  670,\n",
       "       2299,  971,   48,  830, 1248, 2373,  365, 1137,  889, 1437, 1062,\n",
       "       2078, 1715, 2101, 1154, 1515, 1856, 1516,  678, 1934, 1932,  253,\n",
       "       2289,  725,  264,  967,  415, 1871,  471, 1356, 2366,   46, 2220,\n",
       "       1741, 1514,  882, 1677, 2293,  349,  371, 1641,  192, 2031, 1624,\n",
       "        167, 1845,   13,   18, 1163, 1534,  574, 1667, 1919, 2164,  218,\n",
       "        829, 1176,  395,  576, 1740,  185, 1764,   82,  655, 1312, 1191,\n",
       "        872, 2151, 1633,  249,  990,  599,  376,  256,   77,  754, 1561,\n",
       "       1382, 1666, 1384, 2325,  426,  767, 2028,  512, 1030, 1986, 2305,\n",
       "        331, 2112,  367, 1277, 1211, 1370, 1547,  161,  379, 1661, 1028,\n",
       "       1843, 1242,  572, 2357,  586, 1141,  603, 1950,  827, 1473,  525,\n",
       "       1629, 1544, 1331, 1721, 1425, 2167,  828, 1022, 1799, 1972,  483,\n",
       "        805, 2129,  784, 2178, 1492,  970, 1726, 1825, 2234, 1760,   25,\n",
       "        570, 2121, 1338, 1458,  906, 1643,  853,  374, 2360,  267, 2337,\n",
       "       2145, 1452,   44, 1087, 2133, 1542,  918,  342, 2343, 2019,  831,\n",
       "       1914,  493, 1178, 1231,  871,  819, 2246,  398, 1766,  672,  102,\n",
       "        801,  768,  295, 1812, 1343, 2368, 2306,  558,  224, 2168, 1065,\n",
       "       1598, 1651, 1844, 1816, 2137, 2118,   41,  232, 1184, 1019,  238,\n",
       "       1364, 1068, 1543, 1699, 1880, 1207, 1216,  775, 2102,  740, 2199,\n",
       "       1517,  206, 1076, 1383, 1152, 1351,  820, 2209, 1462, 1553, 1618,\n",
       "       1577, 1105,  892,  637,  899, 1755, 1594, 1877,  433,  769, 2269,\n",
       "        949, 1264,  348, 1353,  644, 2403,   28, 2336,   21, 1186, 1308,\n",
       "       1232, 1907,  741,  262, 1922,  675,   14, 2171,  963, 2228, 1599,\n",
       "       2390, 1915, 1695,  643, 1221, 1444, 1190,  239, 2058,  545,  166,\n",
       "       2247,  861, 1366, 1406,  392, 2104,  571, 2346,  931,  462,  979,\n",
       "       2169, 2088,  368,  153,   67, 1996,  580,  589,  370,  556,  226,\n",
       "       1237,  960,  620, 2096,  939, 1748, 1420, 1130,  118,  389,  157,\n",
       "       1189, 1962,  482,  848,   97, 2075, 2217, 1642,  961, 2313, 2116,\n",
       "       1646,  498,  207, 1504, 2355, 2382,  815,  448, 2237,  635,  613,\n",
       "       1143,  511,  536, 2155,  786,  522,  804,  691, 1900, 1860,  139,\n",
       "       2265,  685, 2275,  901, 1788, 2059, 1607, 2188,  577, 2386, 1400,\n",
       "       1804,  488, 1952,  335, 1717, 1300, 1101, 1206,  945,  895, 1161,\n",
       "        747, 1478, 2124, 2032, 2180, 2374,   76,  682,  818,  547, 1089,\n",
       "        247, 1917, 1121, 2143,  500, 1989,  316,  330, 2406,  312, 1222,\n",
       "       1487, 1948, 1832, 1640, 2248,  836, 1727,  774, 1467, 1573,  579,\n",
       "       1230, 1976, 2056,   29,  298, 1911, 1745,  936,   37,  544,  156,\n",
       "       1197,  494, 1749,  388, 2219, 1809, 2139, 1768, 2353,  833, 2087,\n",
       "        186, 1210, 1676, 2340, 1193, 1243,   71,   51, 1851, 1229,  910,\n",
       "       1026,  468,    4, 1611, 2303, 1795,  952, 1319, 2175, 1927, 1979,\n",
       "       1558, 1964, 1049, 1170, 2367,    3, 1050, 2333, 1310, 1393, 2038,\n",
       "       1529, 1405,  860,  758, 1390, 1166, 1355, 2161,  189])"
      ]
     },
     "execution_count": 145,
     "metadata": {},
     "output_type": "execute_result"
    }
   ],
   "source": [
    "y_test"
   ]
  },
  {
   "cell_type": "code",
   "execution_count": 146,
   "id": "6813f147",
   "metadata": {},
   "outputs": [],
   "source": [
    "from sklearn.preprocessing import StandardScaler"
   ]
  },
  {
   "cell_type": "code",
   "execution_count": 147,
   "id": "f0d5a244",
   "metadata": {},
   "outputs": [
    {
     "name": "stdout",
     "output_type": "stream",
     "text": [
      "[[ 1.04389421  0.89922851  0.93061656]\n",
      " [-1.4569502  -1.35659172 -1.35799516]\n",
      " [ 0.45357301  0.44625605  0.42962658]\n",
      " ...\n",
      " [ 0.59473678  0.53079389  0.5219121 ]\n",
      " [-1.25001695 -1.32630825 -1.32773626]\n",
      " [ 0.60436158  0.54324843  0.54739322]]\n",
      "[[ 0.82045197  0.67757178  0.63350443]\n",
      " [-0.92154643 -1.29218871 -1.28693515]\n",
      " [ 1.50760129  1.23201761  1.34989656]\n",
      " ...\n",
      " [ 1.58579988  1.39487515  1.33777306]\n",
      " [ 1.21976393  1.08428123  1.07919365]\n",
      " [-0.44403589 -0.05424476 -0.066186  ]]\n"
     ]
    }
   ],
   "source": [
    "scaler=StandardScaler()\n",
    "x_train=scaler.fit_transform(x_train)\n",
    "x_test=scaler.fit_transform(x_test)\n",
    "print(x_train)\n",
    "print(x_test)"
   ]
  },
  {
   "cell_type": "code",
   "execution_count": 148,
   "id": "d7e389a2",
   "metadata": {},
   "outputs": [
    {
     "data": {
      "text/html": [
       "<div>\n",
       "<style scoped>\n",
       "    .dataframe tbody tr th:only-of-type {\n",
       "        vertical-align: middle;\n",
       "    }\n",
       "\n",
       "    .dataframe tbody tr th {\n",
       "        vertical-align: top;\n",
       "    }\n",
       "\n",
       "    .dataframe thead th {\n",
       "        text-align: right;\n",
       "    }\n",
       "</style>\n",
       "<table border=\"1\" class=\"dataframe\">\n",
       "  <thead>\n",
       "    <tr style=\"text-align: right;\">\n",
       "      <th></th>\n",
       "      <th>Date</th>\n",
       "      <th>Open</th>\n",
       "      <th>High</th>\n",
       "      <th>Low</th>\n",
       "      <th>Close</th>\n",
       "      <th>Adj Close</th>\n",
       "      <th>Volume</th>\n",
       "    </tr>\n",
       "  </thead>\n",
       "  <tbody>\n",
       "    <tr>\n",
       "      <th>0</th>\n",
       "      <td>29-06-2010</td>\n",
       "      <td>19.000000</td>\n",
       "      <td>25.000000</td>\n",
       "      <td>17.540001</td>\n",
       "      <td>23.889999</td>\n",
       "      <td>23.889999</td>\n",
       "      <td>18766300.0</td>\n",
       "    </tr>\n",
       "    <tr>\n",
       "      <th>1</th>\n",
       "      <td>30-06-2010</td>\n",
       "      <td>25.790001</td>\n",
       "      <td>30.420000</td>\n",
       "      <td>23.299999</td>\n",
       "      <td>23.830000</td>\n",
       "      <td>23.830000</td>\n",
       "      <td>17187100.0</td>\n",
       "    </tr>\n",
       "    <tr>\n",
       "      <th>3</th>\n",
       "      <td>02-07-2010</td>\n",
       "      <td>23.000000</td>\n",
       "      <td>23.100000</td>\n",
       "      <td>18.709999</td>\n",
       "      <td>19.200001</td>\n",
       "      <td>19.200001</td>\n",
       "      <td>5139800.0</td>\n",
       "    </tr>\n",
       "    <tr>\n",
       "      <th>5</th>\n",
       "      <td>07-07-2010</td>\n",
       "      <td>16.400000</td>\n",
       "      <td>16.629999</td>\n",
       "      <td>14.980000</td>\n",
       "      <td>15.800000</td>\n",
       "      <td>15.800000</td>\n",
       "      <td>6921700.0</td>\n",
       "    </tr>\n",
       "    <tr>\n",
       "      <th>6</th>\n",
       "      <td>08-07-2010</td>\n",
       "      <td>16.139999</td>\n",
       "      <td>17.520000</td>\n",
       "      <td>15.570000</td>\n",
       "      <td>17.459999</td>\n",
       "      <td>17.459999</td>\n",
       "      <td>7711400.0</td>\n",
       "    </tr>\n",
       "    <tr>\n",
       "      <th>...</th>\n",
       "      <td>...</td>\n",
       "      <td>...</td>\n",
       "      <td>...</td>\n",
       "      <td>...</td>\n",
       "      <td>...</td>\n",
       "      <td>...</td>\n",
       "      <td>...</td>\n",
       "    </tr>\n",
       "    <tr>\n",
       "      <th>2411</th>\n",
       "      <td>28-01-2020</td>\n",
       "      <td>568.489990</td>\n",
       "      <td>576.809998</td>\n",
       "      <td>558.080017</td>\n",
       "      <td>566.900024</td>\n",
       "      <td>566.900024</td>\n",
       "      <td>11788500.0</td>\n",
       "    </tr>\n",
       "    <tr>\n",
       "      <th>2412</th>\n",
       "      <td>29-01-2020</td>\n",
       "      <td>575.690002</td>\n",
       "      <td>589.799988</td>\n",
       "      <td>567.429993</td>\n",
       "      <td>580.989990</td>\n",
       "      <td>580.989990</td>\n",
       "      <td>17801500.0</td>\n",
       "    </tr>\n",
       "    <tr>\n",
       "      <th>2413</th>\n",
       "      <td>30-01-2020</td>\n",
       "      <td>632.419983</td>\n",
       "      <td>650.880005</td>\n",
       "      <td>618.000000</td>\n",
       "      <td>640.809998</td>\n",
       "      <td>640.809998</td>\n",
       "      <td>29005700.0</td>\n",
       "    </tr>\n",
       "    <tr>\n",
       "      <th>2414</th>\n",
       "      <td>31-01-2020</td>\n",
       "      <td>640.000000</td>\n",
       "      <td>653.000000</td>\n",
       "      <td>632.520020</td>\n",
       "      <td>650.570007</td>\n",
       "      <td>650.570007</td>\n",
       "      <td>15719300.0</td>\n",
       "    </tr>\n",
       "    <tr>\n",
       "      <th>2415</th>\n",
       "      <td>03-02-2020</td>\n",
       "      <td>673.690002</td>\n",
       "      <td>786.140015</td>\n",
       "      <td>673.520020</td>\n",
       "      <td>780.000000</td>\n",
       "      <td>780.000000</td>\n",
       "      <td>47065000.0</td>\n",
       "    </tr>\n",
       "  </tbody>\n",
       "</table>\n",
       "<p>2410 rows × 7 columns</p>\n",
       "</div>"
      ],
      "text/plain": [
       "            Date        Open        High         Low       Close   Adj Close  \\\n",
       "0     29-06-2010   19.000000   25.000000   17.540001   23.889999   23.889999   \n",
       "1     30-06-2010   25.790001   30.420000   23.299999   23.830000   23.830000   \n",
       "3     02-07-2010   23.000000   23.100000   18.709999   19.200001   19.200001   \n",
       "5     07-07-2010   16.400000   16.629999   14.980000   15.800000   15.800000   \n",
       "6     08-07-2010   16.139999   17.520000   15.570000   17.459999   17.459999   \n",
       "...          ...         ...         ...         ...         ...         ...   \n",
       "2411  28-01-2020  568.489990  576.809998  558.080017  566.900024  566.900024   \n",
       "2412  29-01-2020  575.690002  589.799988  567.429993  580.989990  580.989990   \n",
       "2413  30-01-2020  632.419983  650.880005  618.000000  640.809998  640.809998   \n",
       "2414  31-01-2020  640.000000  653.000000  632.520020  650.570007  650.570007   \n",
       "2415  03-02-2020  673.690002  786.140015  673.520020  780.000000  780.000000   \n",
       "\n",
       "          Volume  \n",
       "0     18766300.0  \n",
       "1     17187100.0  \n",
       "3      5139800.0  \n",
       "5      6921700.0  \n",
       "6      7711400.0  \n",
       "...          ...  \n",
       "2411  11788500.0  \n",
       "2412  17801500.0  \n",
       "2413  29005700.0  \n",
       "2414  15719300.0  \n",
       "2415  47065000.0  \n",
       "\n",
       "[2410 rows x 7 columns]"
      ]
     },
     "execution_count": 148,
     "metadata": {},
     "output_type": "execute_result"
    }
   ],
   "source": [
    "dataset"
   ]
  }
 ],
 "metadata": {
  "kernelspec": {
   "display_name": "Python 3 (ipykernel)",
   "language": "python",
   "name": "python3"
  },
  "language_info": {
   "codemirror_mode": {
    "name": "ipython",
    "version": 3
   },
   "file_extension": ".py",
   "mimetype": "text/x-python",
   "name": "python",
   "nbconvert_exporter": "python",
   "pygments_lexer": "ipython3",
   "version": "3.9.12"
  }
 },
 "nbformat": 4,
 "nbformat_minor": 5
}
